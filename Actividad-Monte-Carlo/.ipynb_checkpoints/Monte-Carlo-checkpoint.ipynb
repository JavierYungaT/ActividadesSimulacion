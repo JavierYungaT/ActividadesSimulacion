{
 "cells": [
  {
   "cell_type": "markdown",
   "id": "305c0a6b",
   "metadata": {},
   "source": [
    "# Universidad Politécnica Salesiana \n",
    "## Estudiante: Javier Yunga \n",
    "## Carrera: Computación\n",
    "## Materia: Simulación\n",
    "## Tema: Introducción e implementar en python la resolución del problemas utilizando Monte-Carlo\n",
    "   "
   ]
  },
  {
   "cell_type": "code",
   "execution_count": null,
   "id": "6f1c0f99",
   "metadata": {},
   "outputs": [],
   "source": [
    "import matplotlib.pyplot as plt\n",
    "import numpy as np\n",
    "\n",
    "n = 2000\n",
    "numExperimentos = 2000\n",
    "mediaPi = 0\n",
    "listaValoresPi = []\n",
    "for i in range(numExperimentos):\n",
    "    valor = 0\n",
    "    X = np.random.uniform(0, 1, n).tolist()\n",
    "    Y = np.random.uniform(0, 1, n).tolist()\n",
    "    for j in range(n):\n",
    "        Z = np.sqrt(X[j] * X[j] + Y[j] * Y[j])\n",
    "        if Z <= 1:\n",
    "            #Estamo dentro del círculo\n",
    "            valor += 1\n",
    "    valorFlotante = float(valor)\n",
    "    valorPi = valorFlotante * 4 / n\n",
    "    listaValoresPi.append(valorPi)\n",
    "    mediaPi += valorPi\n",
    "\n",
    "    \n",
    "piFinal = mediaPi / numExperimentos\n",
    "print(\"Resultado \", piFinal)\n",
    "plt.plot(listaValoresPi)"
   ]
  },
  {
   "cell_type": "code",
   "execution_count": 24,
   "id": "5c8f7caf",
   "metadata": {},
   "outputs": [],
   "source": []
  }
 ],
 "metadata": {
  "kernelspec": {
   "display_name": "Python 3",
   "language": "python",
   "name": "python3"
  },
  "language_info": {
   "codemirror_mode": {
    "name": "ipython",
    "version": 3
   },
   "file_extension": ".py",
   "mimetype": "text/x-python",
   "name": "python",
   "nbconvert_exporter": "python",
   "pygments_lexer": "ipython3",
   "version": "3.8.8"
  }
 },
 "nbformat": 4,
 "nbformat_minor": 5
}
